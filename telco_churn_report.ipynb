{
 "cells": [
  {
   "cell_type": "markdown",
   "id": "25faabd5",
   "metadata": {},
   "source": [
    "# Telco-churn-classification-project"
   ]
  },
  {
   "cell_type": "markdown",
   "id": "55468f75",
   "metadata": {},
   "source": [
    "## Project Goals\n",
    "\n",
    "* My goal is to identify key drivers of churn, which group of customers are more likely to churn. Then make recommendations for changes so that we can reduce the monthly churn rate and increase customer retention.\n"
   ]
  },
  {
   "cell_type": "markdown",
   "id": "ff0ea878",
   "metadata": {},
   "source": [
    "## Project Description\n",
    "\n",
    "* How to reduce the customer churn rate is pretty much every single company's all-year-round mission. What kind of marketing strategies the company need to use. What is the main group the company need to focus on base on their products. What kind of services the company can offer to retain the current customers and attract more new customers. \n",
    "* In this report, we will analyze the attributes of customers who were more or less likely to churn, develop a model for predicting churn rate based on those attributes, and leave with both recommendations for Telco company and predictions of churn rate for a list of customers (delivered via csv). "
   ]
  },
  {
   "cell_type": "markdown",
   "id": "de728817",
   "metadata": {},
   "source": [
    "## Initial Questions\n",
    "\n",
    "1. Is the churn rate effected by monthly charges?\n",
    "\n",
    "2. Does churn rate related to tenure?\n",
    "\n",
    "3. Does the churn rate related to the additional services?\n",
    "\n",
    "4. Does the churn rate effeted by contract type?"
   ]
  },
  {
   "cell_type": "markdown",
   "id": "1af814e4",
   "metadata": {},
   "source": [
    "## Data Dictionary"
   ]
  },
  {
   "cell_type": "markdown",
   "id": "71bad84c",
   "metadata": {},
   "source": [
    "Variables are used in this analysis: \n",
    "\n",
    "* churn\n",
    "* monthly charges\n",
    "* tenure\n",
    "* contract types: month-to-month, one-year, two-year\n",
    "* additional services: online security, online backup, tech support, streaming tv, streaming movies"
   ]
  },
  {
   "cell_type": "markdown",
   "id": "702f7456",
   "metadata": {},
   "source": [
    "## Wrangle Telco Data\n",
    "#### To acquire the telco churn data, I used the telco_churn database in our mySQL server. Then selected all columns from the customers table and left join internet_service_types, payment_types and contract_types tables.\n",
    "\n",
    "* select * from customers left join internet_service_types using(internet_service_type_id) left join payment_types using (payment_type_id) left join contract_types using (contract_type_id)"
   ]
  },
  {
   "cell_type": "code",
   "execution_count": 1,
   "id": "4876f444",
   "metadata": {},
   "outputs": [],
   "source": [
    "# Acquire telco_churn data from MySql database \n",
    "import acquire_telco\n",
    "\n",
    "# Make the commection to the database and run the query. Then we will get the data we need.\n",
    "df = acquire_telco.new_telco_data()"
   ]
  },
  {
   "cell_type": "markdown",
   "id": "31995487",
   "metadata": {},
   "source": [
    "#### To clean the data, I did the following:\n",
    "    \n",
    "1. Convert data type: convert total_charges from object to float.\n",
    "2. Drop rows: There are 11 missing data for total_charges, since it's a very small portion, so I just dropped those 11 rows.\n",
    "3. Drop coolumns: Since I already added internet_service_types, payment_types and contract_types into my data, so I dropped payment_type_id, internet_service_type_id znd contract_type_id columns.\n",
    "4. Encode binary categorical variables into numeric values: gender, partner, dependents, phone_service, paperless_billing, churn, online_security, online_backup.\n",
    "5. Get dummies for non-binary categorical variables: multiple_lines, online_security, online_backup, device_protection, tech_support, streaming_tv, streaming_movies, contract_type, internet_service_type, payment_type.\n",
    "6. Creat new columns: number_relationships, number_online_services, yearly_tenure, has_internet, additional_services"
   ]
  },
  {
   "cell_type": "code",
   "execution_count": 2,
   "id": "9010c408",
   "metadata": {},
   "outputs": [],
   "source": [
    "import pandas as pd\n",
    "import prepare_telco\n",
    "\n",
    "train, validate, test = prepare_telco.prep_telco_data(df)"
   ]
  },
  {
   "cell_type": "markdown",
   "id": "f687c35e",
   "metadata": {},
   "source": [
    "* train 56%, validate 24%, test 20%.\n",
    "* Our data is now split into 3 samples so that we can use the train sample to explore, fit to models and evaluate without looking at new data.\n",
    "* The validate is used to verify that our models built are not overfit to the train dataset.\n",
    "* The test set is used to give an estimate of how this model will perform on data is has never seen in the future."
   ]
  },
  {
   "cell_type": "markdown",
   "id": "b7ff0604",
   "metadata": {},
   "source": [
    "## Set the Data Context\n",
    "\n",
    "There are 7043 customers and 24 variables in this data set, the churn rate is 26.53%. \n",
    "\n",
    "Also there three are different providers and three different contract types. "
   ]
  },
  {
   "cell_type": "code",
   "execution_count": 3,
   "id": "fa45570e",
   "metadata": {},
   "outputs": [
    {
     "data": {
      "text/plain": [
       "<AxesSubplot:xlabel='churn', ylabel='Count'>"
      ]
     },
     "execution_count": 3,
     "metadata": {},
     "output_type": "execute_result"
    },
    {
     "data": {
      "image/png": "[encoded data removed]",
      "text/plain": [
       "<Figure size 432x288 with 1 Axes>"
      ]
     },
     "metadata": {
      "needs_background": "light"
     },
     "output_type": "display_data"
    }
   ],
   "source": [
    "# Overall churn rate on train set\n",
    "import seaborn as sns\n",
    "import warnings\n",
    "warnings.filterwarnings(\"ignore\")\n",
    "\n",
    "sns.histplot(df.churn)"
   ]
  },
  {
   "cell_type": "code",
   "execution_count": 6,
   "id": "6434a742",
   "metadata": {},
   "outputs": [
    {
     "data": {
      "text/plain": [
       "<AxesSubplot:xlabel='internet_service_type', ylabel='Count'>"
      ]
     },
     "execution_count": 6,
     "metadata": {},
     "output_type": "execute_result"
    },
    {
     "data": {
      "image/png": "[encoded data removed]",
      "text/plain": [
       "<Figure size 432x288 with 1 Axes>"
      ]
     },
     "metadata": {
      "needs_background": "light"
     },
     "output_type": "display_data"
    }
   ],
   "source": [
    "# churn by service type\n",
    "sns.histplot(data = df, x = 'internet_service_type', hue = 'churn')"
   ]
  },
  {
   "cell_type": "code",
   "execution_count": 7,
   "id": "bf8194d2",
   "metadata": {},
   "outputs": [
    {
     "data": {
      "text/html": [
       "<div>\n",
       "<style scoped>\n",
       "    .dataframe tbody tr th:only-of-type {\n",
       "        vertical-align: middle;\n",
       "    }\n",
       "\n",
       "    .dataframe tbody tr th {\n",
       "        vertical-align: top;\n",
       "    }\n",
       "\n",
       "    .dataframe thead th {\n",
       "        text-align: right;\n",
       "    }\n",
       "</style>\n",
       "<table border=\"1\" class=\"dataframe\">\n",
       "  <thead>\n",
       "    <tr style=\"text-align: right;\">\n",
       "      <th>churn</th>\n",
       "      <th>No</th>\n",
       "      <th>Yes</th>\n",
       "    </tr>\n",
       "    <tr>\n",
       "      <th>internet_service_type</th>\n",
       "      <th></th>\n",
       "      <th></th>\n",
       "    </tr>\n",
       "  </thead>\n",
       "  <tbody>\n",
       "    <tr>\n",
       "      <th>DSL</th>\n",
       "      <td>0.810409</td>\n",
       "      <td>0.189591</td>\n",
       "    </tr>\n",
       "    <tr>\n",
       "      <th>Fiber optic</th>\n",
       "      <td>0.581072</td>\n",
       "      <td>0.418928</td>\n",
       "    </tr>\n",
       "    <tr>\n",
       "      <th>None</th>\n",
       "      <td>0.925950</td>\n",
       "      <td>0.074050</td>\n",
       "    </tr>\n",
       "  </tbody>\n",
       "</table>\n",
       "</div>"
      ],
      "text/plain": [
       "churn                        No       Yes\n",
       "internet_service_type                    \n",
       "DSL                    0.810409  0.189591\n",
       "Fiber optic            0.581072  0.418928\n",
       "None                   0.925950  0.074050"
      ]
     },
     "execution_count": 7,
     "metadata": {},
     "output_type": "execute_result"
    }
   ],
   "source": [
    "pd.crosstab(df.internet_service_type, df.churn, normalize = 'index')"
   ]
  },
  {
   "cell_type": "code",
   "execution_count": 8,
   "id": "d9e1c211",
   "metadata": {},
   "outputs": [
    {
     "data": {
      "text/plain": [
       "<AxesSubplot:xlabel='contract_type', ylabel='Count'>"
      ]
     },
     "execution_count": 8,
     "metadata": {},
     "output_type": "execute_result"
    },
    {
     "data": {
      "image/png": "[encoded data removed]",
      "text/plain": [
       "<Figure size 432x288 with 1 Axes>"
      ]
     },
     "metadata": {
      "needs_background": "light"
     },
     "output_type": "display_data"
    }
   ],
   "source": [
    "# churn by contract type\n",
    "sns.histplot(data = df, x = 'contract_type', hue = 'churn')"
   ]
  },
  {
   "cell_type": "code",
   "execution_count": 9,
   "id": "98d987c5",
   "metadata": {},
   "outputs": [
    {
     "data": {
      "text/html": [
       "<div>\n",
       "<style scoped>\n",
       "    .dataframe tbody tr th:only-of-type {\n",
       "        vertical-align: middle;\n",
       "    }\n",
       "\n",
       "    .dataframe tbody tr th {\n",
       "        vertical-align: top;\n",
       "    }\n",
       "\n",
       "    .dataframe thead th {\n",
       "        text-align: right;\n",
       "    }\n",
       "</style>\n",
       "<table border=\"1\" class=\"dataframe\">\n",
       "  <thead>\n",
       "    <tr style=\"text-align: right;\">\n",
       "      <th>churn</th>\n",
       "      <th>No</th>\n",
       "      <th>Yes</th>\n",
       "    </tr>\n",
       "    <tr>\n",
       "      <th>contract_type</th>\n",
       "      <th></th>\n",
       "      <th></th>\n",
       "    </tr>\n",
       "  </thead>\n",
       "  <tbody>\n",
       "    <tr>\n",
       "      <th>Month-to-month</th>\n",
       "      <td>0.572903</td>\n",
       "      <td>0.427097</td>\n",
       "    </tr>\n",
       "    <tr>\n",
       "      <th>One year</th>\n",
       "      <td>0.887305</td>\n",
       "      <td>0.112695</td>\n",
       "    </tr>\n",
       "    <tr>\n",
       "      <th>Two year</th>\n",
       "      <td>0.971681</td>\n",
       "      <td>0.028319</td>\n",
       "    </tr>\n",
       "  </tbody>\n",
       "</table>\n",
       "</div>"
      ],
      "text/plain": [
       "churn                 No       Yes\n",
       "contract_type                     \n",
       "Month-to-month  0.572903  0.427097\n",
       "One year        0.887305  0.112695\n",
       "Two year        0.971681  0.028319"
      ]
     },
     "execution_count": 9,
     "metadata": {},
     "output_type": "execute_result"
    }
   ],
   "source": [
    "pd.crosstab(df.contract_type, df.churn, normalize = 'index')"
   ]
  },
  {
   "cell_type": "markdown",
   "id": "33856af9",
   "metadata": {},
   "source": [
    "# Exploratory Analysis: Who is more likely to churn?"
   ]
  },
  {
   "cell_type": "markdown",
   "id": "a618c016",
   "metadata": {},
   "source": [
    "## Question 1. Is the churn rate affected by monthly charges?"
   ]
  },
  {
   "cell_type": "code",
   "execution_count": 21,
   "id": "483ace46",
   "metadata": {},
   "outputs": [
    {
     "data": {
      "text/plain": [
       "churn\n",
       "No     61.131613\n",
       "Yes    74.652048\n",
       "Name: monthly_charges, dtype: float64"
      ]
     },
     "execution_count": 21,
     "metadata": {},
     "output_type": "execute_result"
    }
   ],
   "source": [
    "# mean of monthly charges for customers who churn vs who don't churn?\n",
    "\n",
    "train.groupby('churn').monthly_charges.mean()"
   ]
  },
  {
   "cell_type": "code",
   "execution_count": 22,
   "id": "68029e84",
   "metadata": {},
   "outputs": [
    {
     "data": {
      "text/plain": [
       "<AxesSubplot:xlabel='churn', ylabel='monthly_charges'>"
      ]
     },
     "execution_count": 22,
     "metadata": {},
     "output_type": "execute_result"
    },
    {
     "data": {
      "image/png": "[encoded data removed]",
      "text/plain": [
       "<Figure size 432x288 with 1 Axes>"
      ]
     },
     "metadata": {
      "needs_background": "light"
     },
     "output_type": "display_data"
    }
   ],
   "source": [
    "sns.boxplot(data = train, y = 'monthly_charges', x = 'churn')"
   ]
  },
  {
   "cell_type": "code",
   "execution_count": 23,
   "id": "c57c41c1",
   "metadata": {},
   "outputs": [
    {
     "data": {
      "text/plain": [
       "Text(0.5, 1.0, 'Distribution of monthly charges by churn')"
      ]
     },
     "execution_count": 23,
     "metadata": {},
     "output_type": "execute_result"
    },
    {
     "data": {
      "image/png": "[encoded data removed]",
      "text/plain": [
       "<Figure size 432x288 with 1 Axes>"
      ]
     },
     "metadata": {
      "needs_background": "light"
     },
     "output_type": "display_data"
    }
   ],
   "source": [
    "ax = sns.kdeplot(train.monthly_charges[(train[\"churn\"] == 'No') ],\n",
    "                color=\"green\", shade = True)\n",
    "ax = sns.kdeplot(train.monthly_charges[(train[\"churn\"] == 'Yes') ],\n",
    "                ax =ax, color=\"grey\", shade= True)\n",
    "ax.legend([\"Not Churn\",\"Churn\"],loc='upper right')\n",
    "ax.set_ylabel('Density')\n",
    "ax.set_xlabel('Monthly Charges')\n",
    "ax.set_title('Distribution of monthly charges by churn')"
   ]
  },
  {
   "cell_type": "markdown",
   "id": "0d1cca08",
   "metadata": {},
   "source": [
    "### statistical test ---- t-test (2 sample 1-tailed test)\n",
    "\n",
    "I believe customers who churn are charged more (monthly average) than customers who don't churn.\n",
    "\n",
    "Is the mean of monthly charges of customers who churn significantly higher than the mean of those who don't churn?"
   ]
  },
  {
   "cell_type": "code",
   "execution_count": 9,
   "id": "42d8234c",
   "metadata": {},
   "outputs": [],
   "source": [
    "import scipy.stats as stats"
   ]
  },
  {
   "cell_type": "code",
   "execution_count": 18,
   "id": "338b3e55",
   "metadata": {},
   "outputs": [
    {
     "data": {
      "text/plain": [
       "<AxesSubplot:>"
      ]
     },
     "execution_count": 18,
     "metadata": {},
     "output_type": "execute_result"
    },
    {
     "data": {
      "image/png": "[encoded data removed]",
      "text/plain": [
       "<Figure size 432x288 with 1 Axes>"
      ]
     },
     "metadata": {
      "needs_background": "light"
     },
     "output_type": "display_data"
    }
   ],
   "source": [
    "# histogram of churned customers\n",
    "churn_sample = train[train.churn == 'Yes'].monthly_charges\n",
    "\n",
    "churn_sample.hist()"
   ]
  },
  {
   "cell_type": "code",
   "execution_count": 19,
   "id": "ec5012a5",
   "metadata": {},
   "outputs": [
    {
     "data": {
      "text/plain": [
       "<AxesSubplot:>"
      ]
     },
     "execution_count": 19,
     "metadata": {},
     "output_type": "execute_result"
    },
    {
     "data": {
      "image/png": "[encoded data removed]",
      "text/plain": [
       "<Figure size 432x288 with 1 Axes>"
      ]
     },
     "metadata": {
      "needs_background": "light"
     },
     "output_type": "display_data"
    }
   ],
   "source": [
    "no_churn_sample = train[train.churn == 'No'].monthly_charges\n",
    "\n",
    "no_churn_sample.hist()"
   ]
  },
  {
   "cell_type": "markdown",
   "id": "7bcd7682",
   "metadata": {},
   "source": [
    "* Set Hypothesis\n",
    "\n",
    "H0: Mean of monthly charges of churned customers <= Mean of monthly charges of customers who stay.\n",
    "\n",
    "Ha: Mean of monthly charges of churned customers > Mean of monthly charges of customers who stay."
   ]
  },
  {
   "cell_type": "markdown",
   "id": "9a5635ce",
   "metadata": {},
   "source": [
    "* set alpha"
   ]
  },
  {
   "cell_type": "code",
   "execution_count": 20,
   "id": "a0946dc0",
   "metadata": {},
   "outputs": [],
   "source": [
    "alpha = 0.05"
   ]
  },
  {
   "cell_type": "markdown",
   "id": "b8fc6cd9",
   "metadata": {},
   "source": [
    "* Verify Assumptions\n",
    "\n",
    "1. Independent Samples. YES! no observations in the churn sample exist in the no-churn sample.\n",
    "\n",
    "2. Normal Distribution, or at least 30 observations and \"kinda\" normal. The more observations you have, the less \"normal\" it needs to appear. (CLT). YES! Plenty of observations\n",
    "\n",
    "3. Equal Variances (the scipy methods we will use has an argument to handle when variances aren't equal). YES!"
   ]
  },
  {
   "cell_type": "code",
   "execution_count": 26,
   "id": "fa5cc0c4",
   "metadata": {},
   "outputs": [
    {
     "data": {
      "text/plain": [
       "(610.5202363859298, 973.6230640332021)"
      ]
     },
     "execution_count": 26,
     "metadata": {},
     "output_type": "execute_result"
    }
   ],
   "source": [
    "churn_sample.var(), no_churn_sample.var()"
   ]
  },
  {
   "cell_type": "code",
   "execution_count": 21,
   "id": "6901af4f",
   "metadata": {},
   "outputs": [
    {
     "name": "stdout",
     "output_type": "stream",
     "text": [
      "Reject null. The monthly charges for churn customers is higher than non-churn customers.\n"
     ]
    }
   ],
   "source": [
    "t, p = stats.ttest_ind(churn_sample,no_churn_sample, equal_var=False)\n",
    "\n",
    "if (p/2 < alpha) & (t > 0):\n",
    "    print(\"Reject null. The monthly charges for churn customers is higher than non-churn customers.\")\n",
    "else:\n",
    "    print(\"Fail to reject null. The monthly charges for churn customers is equal or lower than non-churn customers.\")"
   ]
  },
  {
   "cell_type": "markdown",
   "id": "d3e6e8fd",
   "metadata": {},
   "source": [
    "## Answer 1"
   ]
  },
  {
   "cell_type": "markdown",
   "id": "89ff36e9",
   "metadata": {},
   "source": [
    "### Customers who have higher monthly charges are more likely to churn."
   ]
  },
  {
   "cell_type": "markdown",
   "id": "074c293e",
   "metadata": {},
   "source": [
    "## Question 2. Does the churn rate related to tenure?"
   ]
  },
  {
   "cell_type": "code",
   "execution_count": 39,
   "id": "044d5818",
   "metadata": {},
   "outputs": [
    {
     "data": {
      "text/plain": [
       "<AxesSubplot:xlabel='churn', ylabel='tenure'>"
      ]
     },
     "execution_count": 39,
     "metadata": {},
     "output_type": "execute_result"
    },
    {
     "data": {
      "image/png": "[encoded data removed]",
      "text/plain": [
       "<Figure size 432x288 with 1 Axes>"
      ]
     },
     "metadata": {
      "needs_background": "light"
     },
     "output_type": "display_data"
    }
   ],
   "source": [
    "sns.boxplot(x = 'churn', y = 'tenure', data = train)"
   ]
  },
  {
   "cell_type": "code",
   "execution_count": 40,
   "id": "126bb827",
   "metadata": {},
   "outputs": [
    {
     "data": {
      "text/plain": [
       "churn\n",
       "No     37.689770\n",
       "Yes    18.061037\n",
       "Name: tenure, dtype: float64"
      ]
     },
     "execution_count": 40,
     "metadata": {},
     "output_type": "execute_result"
    }
   ],
   "source": [
    "train.groupby('churn').tenure.mean()"
   ]
  },
  {
   "cell_type": "markdown",
   "id": "e185022f",
   "metadata": {},
   "source": [
    "### T-test : 2 sample 1-teailed\n",
    "\n",
    "I believe that the mean of tenure for churn customers is lower than non-churn customers.\n",
    "\n",
    "* H0: Mean of tenure for churn customers >= non-churn customers.\n",
    "\n",
    "* H1: Mean of tenure for churn customers < non-churn customers."
   ]
  },
  {
   "cell_type": "code",
   "execution_count": 41,
   "id": "4b5cff55",
   "metadata": {},
   "outputs": [
    {
     "data": {
      "text/plain": [
       "<AxesSubplot:>"
      ]
     },
     "execution_count": 41,
     "metadata": {},
     "output_type": "execute_result"
    },
    {
     "data": {
      "image/png": "[encoded data removed]",
      "text/plain": [
       "<Figure size 432x288 with 1 Axes>"
      ]
     },
     "metadata": {
      "needs_background": "light"
     },
     "output_type": "display_data"
    }
   ],
   "source": [
    "# histogram of churned customers\n",
    "churn_sample_tenure = train[train.churn == 'Yes'].tenure\n",
    "\n",
    "churn_sample_tenure.hist()"
   ]
  },
  {
   "cell_type": "code",
   "execution_count": 42,
   "id": "84ea596c",
   "metadata": {},
   "outputs": [
    {
     "data": {
      "text/plain": [
       "<AxesSubplot:>"
      ]
     },
     "execution_count": 42,
     "metadata": {},
     "output_type": "execute_result"
    },
    {
     "data": {
      "image/png": "[encoded data removed]",
      "text/plain": [
       "<Figure size 432x288 with 1 Axes>"
      ]
     },
     "metadata": {
      "needs_background": "light"
     },
     "output_type": "display_data"
    }
   ],
   "source": [
    "no_churn_sample_tenure = train[train.churn == 'No'].tenure\n",
    "\n",
    "no_churn_sample_tenure.hist()"
   ]
  },
  {
   "cell_type": "code",
   "execution_count": 43,
   "id": "2ebba626",
   "metadata": {},
   "outputs": [],
   "source": [
    "alpha = 0.05"
   ]
  },
  {
   "cell_type": "markdown",
   "id": "dd20ef27",
   "metadata": {},
   "source": [
    "* Verify Assumptions\n",
    "\n",
    "1. Independent Samples. YES! \n",
    "\n",
    "2. Normal Distribution, or at least 30 observations and \"kinda\" normal. YES! \n",
    "\n",
    "3. Equal Variances. YES!"
   ]
  },
  {
   "cell_type": "code",
   "execution_count": 44,
   "id": "a8a691b4",
   "metadata": {},
   "outputs": [
    {
     "data": {
      "text/plain": [
       "(391.3711667902756, 583.9458111490103)"
      ]
     },
     "execution_count": 44,
     "metadata": {},
     "output_type": "execute_result"
    }
   ],
   "source": [
    "churn_sample_tenure.var(), no_churn_sample_tenure.var()"
   ]
  },
  {
   "cell_type": "code",
   "execution_count": 22,
   "id": "1cbd01d2",
   "metadata": {},
   "outputs": [
    {
     "name": "stdout",
     "output_type": "stream",
     "text": [
      "Reject null. Mean of tenure for churn customers is less then non-churn customers.\n"
     ]
    }
   ],
   "source": [
    "t1, p1 = stats.ttest_ind(churn_sample_tenure,no_churn_sample_tenure, equal_var=False)\n",
    "\n",
    "if (p1/2 < alpha) & (t1 < 0):\n",
    "    print(\"Reject null. Mean of tenure for churn customers is less then non-churn customers.\")\n",
    "else:\n",
    "    print(\"Fail to reject null. \")"
   ]
  },
  {
   "cell_type": "markdown",
   "id": "7c425ab2",
   "metadata": {},
   "source": [
    "## Answer 2"
   ]
  },
  {
   "cell_type": "markdown",
   "id": "f7b1c7db",
   "metadata": {},
   "source": [
    "### The churn customers have lower tenure compare to non-churn customers."
   ]
  },
  {
   "cell_type": "markdown",
   "id": "bde96696",
   "metadata": {},
   "source": [
    "## Question 3. Does the churn rate related to the additional services?\n",
    "\n",
    "Additional services: \n",
    "\n",
    "    online security, online backup, tech support, streaming tv, streaming movies"
   ]
  },
  {
   "cell_type": "code",
   "execution_count": 47,
   "id": "fa383f7f",
   "metadata": {},
   "outputs": [
    {
     "data": {
      "text/plain": [
       "<AxesSubplot:xlabel='additional_services', ylabel='count'>"
      ]
     },
     "execution_count": 47,
     "metadata": {},
     "output_type": "execute_result"
    },
    {
     "data": {
      "image/png": "[encoded data removed]",
      "text/plain": [
       "<Figure size 432x288 with 1 Axes>"
      ]
     },
     "metadata": {
      "needs_background": "light"
     },
     "output_type": "display_data"
    }
   ],
   "source": [
    "sns.countplot(x = 'additional_services', hue = 'churn', data = train)"
   ]
  },
  {
   "cell_type": "markdown",
   "id": "28d5d949",
   "metadata": {},
   "source": [
    "## Answer 3"
   ]
  },
  {
   "cell_type": "markdown",
   "id": "fc012d0d",
   "metadata": {},
   "source": [
    "### Customers who use more additional services are less likely to churn."
   ]
  },
  {
   "cell_type": "markdown",
   "id": "2f25d3bf",
   "metadata": {},
   "source": [
    "## Question 4. Does the churn rate affeted by contract type?"
   ]
  },
  {
   "cell_type": "code",
   "execution_count": 52,
   "id": "9304b97a",
   "metadata": {},
   "outputs": [
    {
     "data": {
      "text/html": [
       "<div>\n",
       "<style scoped>\n",
       "    .dataframe tbody tr th:only-of-type {\n",
       "        vertical-align: middle;\n",
       "    }\n",
       "\n",
       "    .dataframe tbody tr th {\n",
       "        vertical-align: top;\n",
       "    }\n",
       "\n",
       "    .dataframe thead th {\n",
       "        text-align: right;\n",
       "    }\n",
       "</style>\n",
       "<table border=\"1\" class=\"dataframe\">\n",
       "  <thead>\n",
       "    <tr style=\"text-align: right;\">\n",
       "      <th>churn</th>\n",
       "      <th>No</th>\n",
       "      <th>Yes</th>\n",
       "    </tr>\n",
       "    <tr>\n",
       "      <th>contract_type</th>\n",
       "      <th></th>\n",
       "      <th></th>\n",
       "    </tr>\n",
       "  </thead>\n",
       "  <tbody>\n",
       "    <tr>\n",
       "      <th>Month-to-month</th>\n",
       "      <td>0.575271</td>\n",
       "      <td>0.424729</td>\n",
       "    </tr>\n",
       "    <tr>\n",
       "      <th>One year</th>\n",
       "      <td>0.883442</td>\n",
       "      <td>0.116558</td>\n",
       "    </tr>\n",
       "    <tr>\n",
       "      <th>Two year</th>\n",
       "      <td>0.971586</td>\n",
       "      <td>0.028414</td>\n",
       "    </tr>\n",
       "  </tbody>\n",
       "</table>\n",
       "</div>"
      ],
      "text/plain": [
       "churn                 No       Yes\n",
       "contract_type                     \n",
       "Month-to-month  0.575271  0.424729\n",
       "One year        0.883442  0.116558\n",
       "Two year        0.971586  0.028414"
      ]
     },
     "execution_count": 52,
     "metadata": {},
     "output_type": "execute_result"
    }
   ],
   "source": [
    "pd.crosstab(train.contract_type, train.churn, normalize = 'index')"
   ]
  },
  {
   "cell_type": "code",
   "execution_count": 53,
   "id": "55ece505",
   "metadata": {},
   "outputs": [
    {
     "data": {
      "text/plain": [
       "<AxesSubplot:xlabel='contract_type', ylabel='count'>"
      ]
     },
     "execution_count": 53,
     "metadata": {},
     "output_type": "execute_result"
    },
    {
     "data": {
      "image/png": "[encoded data removed]",
      "text/plain": [
       "<Figure size 432x288 with 1 Axes>"
      ]
     },
     "metadata": {
      "needs_background": "light"
     },
     "output_type": "display_data"
    }
   ],
   "source": [
    "sns.countplot(x = 'contract_type', hue = 'churn', data = train)"
   ]
  },
  {
   "cell_type": "markdown",
   "id": "54c44dab",
   "metadata": {},
   "source": [
    "## Answer 4"
   ]
  },
  {
   "cell_type": "markdown",
   "id": "156be261",
   "metadata": {},
   "source": [
    "### Month-to-month contract type has the highest churn rate."
   ]
  },
  {
   "cell_type": "markdown",
   "id": "6cd7a4e1",
   "metadata": {},
   "source": [
    "## Summary: \n",
    "\n",
    "The churn customers have higher monthly charges, lower tenure, less additional services use and the month-to-month contract type has the highest churn rate.\n",
    "\n",
    "#### Therefore, the features I will use are: \n",
    "* monthly charges\n",
    "* tenure\n",
    "* addtional services\n",
    "* contracts type"
   ]
  },
  {
   "cell_type": "markdown",
   "id": "bdbdced5",
   "metadata": {},
   "source": [
    "# Predicting Churn"
   ]
  },
  {
   "cell_type": "markdown",
   "id": "a1c445df",
   "metadata": {},
   "source": [
    "Because churn is a boolean/yes or no value, I will use classification machine learning algorithms to fit to the training data and evaluate on validate set. \n",
    "\n",
    "Then I will pick the best model using accuracy as the metric because the data is mostly balanced, and the risk of an event happening balances the risk of getting a prediction wrong."
   ]
  },
  {
   "cell_type": "markdown",
   "id": "1181a5cf",
   "metadata": {},
   "source": [
    "## Baseline"
   ]
  },
  {
   "cell_type": "markdown",
   "id": "7bcf60da",
   "metadata": {},
   "source": [
    "Set a baseline prediction by predicting all customers to not churn (churn == 0). I will evaluate the accuracy of that."
   ]
  },
  {
   "cell_type": "code",
   "execution_count": 57,
   "id": "faec1510",
   "metadata": {},
   "outputs": [
    {
     "name": "stdout",
     "output_type": "stream",
     "text": [
      "baseline accuracy on train set: 73.42%\n"
     ]
    }
   ],
   "source": [
    "# baseline\n",
    "train['baseline_churn'] = 0\n",
    "\n",
    "baseline_churn_accuracy = (train.churn_encoded == train.baseline_churn).mean()\n",
    "\n",
    "print(f'baseline accuracy on train set: {baseline_churn_accuracy:.2%}')"
   ]
  },
  {
   "cell_type": "markdown",
   "id": "7c710430",
   "metadata": {},
   "source": [
    "## Fit 3 models"
   ]
  },
  {
   "cell_type": "markdown",
   "id": "672ecb32",
   "metadata": {},
   "source": [
    "The top 3 models I built were the decision tree, KNN, and logistic regression. \n",
    "\n",
    "The models differed in the algorithms. \n",
    "\n",
    "The best model is Logistic Regression with a 79.67% accuracy on test set."
   ]
  },
  {
   "cell_type": "code",
   "execution_count": 13,
   "id": "8e82796f",
   "metadata": {},
   "outputs": [],
   "source": [
    "x_train = train[['monthly_charges','contract_type_One year', 'contract_type_Two year', 'tenure', 'additional_services']]\n",
    "y_train = train.churn_encoded\n",
    "\n",
    "x_validate = validate[['monthly_charges','contract_type_One year', 'contract_type_Two year', 'tenure', 'additional_services']]\n",
    "y_validate = validate.churn_encoded\n",
    "\n",
    "x_test = test[['monthly_charges','contract_type_One year', 'contract_type_Two year', 'tenure', 'additional_services']]\n",
    "y_test = test.churn_encoded"
   ]
  },
  {
   "cell_type": "code",
   "execution_count": 12,
   "id": "e59bb9dd",
   "metadata": {},
   "outputs": [],
   "source": [
    "from sklearn.tree import DecisionTreeClassifier, plot_tree, export_text\n",
    "from sklearn.metrics import classification_report, confusion_matrix, plot_confusion_matrix\n",
    "from sklearn.neighbors import KNeighborsClassifier\n",
    "from sklearn.linear_model import LogisticRegression"
   ]
  },
  {
   "cell_type": "markdown",
   "id": "b1488f6f",
   "metadata": {},
   "source": [
    "### Train"
   ]
  },
  {
   "cell_type": "code",
   "execution_count": 14,
   "id": "9c66759c",
   "metadata": {},
   "outputs": [
    {
     "name": "stdout",
     "output_type": "stream",
     "text": [
      "Accuracy of decision tree (max_depth=6) classifier on train set: 80.49%\n",
      "Accuracy of KNN(k=10) classifier on train set: 81.51%\n",
      "Accuracy of Logistic Regression (c=1) on train set: 79.49%\n"
     ]
    }
   ],
   "source": [
    "# Create the objects\n",
    "# decision tree\n",
    "tree = DecisionTreeClassifier(max_depth=6, random_state=123)\n",
    "\n",
    "# KNN\n",
    "knn = KNeighborsClassifier(n_neighbors=10)\n",
    "\n",
    "# logistic regression\n",
    "logit = LogisticRegression(C=1, random_state=123)\n",
    "\n",
    "# fit on train\n",
    "tree.fit(x_train, y_train)\n",
    "knn.fit(x_train, y_train)\n",
    "logit.fit(x_train, y_train)\n",
    "\n",
    "# predict on train\n",
    "y_pred_tree_train = tree.predict(x_train)\n",
    "y_pred_knn_train = knn.predict(x_train)\n",
    "y_pred_logistic_train = logit.predict(x_train)\n",
    "\n",
    "# evaluate on train\n",
    "print('Accuracy of decision tree (max_depth=6) classifier on train set: {:.2%}'\n",
    "     .format(tree.score(x_train, y_train)))\n",
    "print('Accuracy of KNN(k=10) classifier on train set: {:.2%}'\n",
    "     .format(knn.score(x_train, y_train)))\n",
    "print('Accuracy of Logistic Regression (c=1) on train set: {:.2%}'\n",
    "     .format(logit.score(x_train, y_train)))"
   ]
  },
  {
   "cell_type": "markdown",
   "id": "b9d4cf74",
   "metadata": {},
   "source": [
    "### Validate"
   ]
  },
  {
   "cell_type": "code",
   "execution_count": 7,
   "id": "3d8a4d9e",
   "metadata": {},
   "outputs": [
    {
     "name": "stdout",
     "output_type": "stream",
     "text": [
      "Accuracy of decision tree classifier on validate set: 77.33%\n",
      "Accuracy of KNN(k=10) classifier on validate set: 76.71%\n",
      "Accuracy of Logistic Regression (c=1) on validate set: 77.60%\n"
     ]
    }
   ],
   "source": [
    "# predict on validate\n",
    "y_pred_tree_validate = tree.predict(x_validate)\n",
    "y_pred_knn_validate = knn.predict(x_validate)\n",
    "y_pred_logistic_validate = logit.predict(x_validate)\n",
    "\n",
    "# evaluate on validate\n",
    "print('Accuracy of decision tree classifier on validate set: {:.2%}'\n",
    "     .format(tree.score(x_validate, y_validate)))\n",
    "print('Accuracy of KNN(k=10) classifier on validate set: {:.2%}'\n",
    "     .format(knn.score(x_validate, y_validate)))\n",
    "print('Accuracy of Logistic Regression (c=1) on validate set: {:.2%}'\n",
    "     .format(logit.score(x_validate, y_validate)))"
   ]
  },
  {
   "cell_type": "markdown",
   "id": "8c43b309",
   "metadata": {},
   "source": [
    "None of these model seem to be overfit. Logistic regression model performed the best on the validate sample and also has the smallest accuracy difference between the train set and validate set. Therefore, I will use this model on my test set."
   ]
  },
  {
   "cell_type": "markdown",
   "id": "2186ce05",
   "metadata": {},
   "source": [
    "### Test"
   ]
  },
  {
   "cell_type": "code",
   "execution_count": 15,
   "id": "ea49b932",
   "metadata": {},
   "outputs": [
    {
     "name": "stdout",
     "output_type": "stream",
     "text": [
      "Accuracy of Logistic Regression (c=1) on test set: 79.67%\n"
     ]
    }
   ],
   "source": [
    "# predict on test\n",
    "y_pred_test = logit.predict(x_test)\n",
    "y_pred_proba_test = logit.predict_proba(x_test)\n",
    "\n",
    "# evaluate on test\n",
    "print('Accuracy of Logistic Regression (c=1) on test set: {:.2%}'\n",
    "     .format(logit.score(x_test, y_test)))"
   ]
  },
  {
   "cell_type": "code",
   "execution_count": 28,
   "id": "2a37bdc6",
   "metadata": {
    "scrolled": true
   },
   "outputs": [
    {
     "data": {
      "text/plain": [
       "<matplotlib.collections.PathCollection at 0x7f866c584d00>"
      ]
     },
     "execution_count": 28,
     "metadata": {},
     "output_type": "execute_result"
    },
    {
     "data": {
      "image/png": "[encoded data removed]",
      "text/plain": [
       "<Figure size 1800x360 with 1 Axes>"
      ]
     },
     "metadata": {
      "needs_background": "light"
     },
     "output_type": "display_data"
    }
   ],
   "source": [
    "# chart for my best model on the test set. \n",
    "import numpy as np\n",
    "import matplotlib.pyplot as plt\n",
    "y_pred_proba_test_1 = np.array([i[1] for i in y_pred_proba_test])\n",
    "\n",
    "fig = plt.figure(figsize=(25,5))\n",
    "ax = fig.add_subplot(111)\n",
    "\n",
    "ax.scatter(y_pred_proba_test_1, y_pred_test, color = 'purple')"
   ]
  },
  {
   "cell_type": "markdown",
   "id": "2a4bb6a0",
   "metadata": {},
   "source": [
    "According to the result. I expect this model to perform with 79.67% accuracy in future data if there is no major change in our data source."
   ]
  },
  {
   "cell_type": "markdown",
   "id": "6486b30a",
   "metadata": {},
   "source": [
    "# Conclusion"
   ]
  },
  {
   "cell_type": "markdown",
   "id": "71d15cea",
   "metadata": {},
   "source": [
    "## Summary"
   ]
  },
  {
   "cell_type": "markdown",
   "id": "5b45640a",
   "metadata": {},
   "source": [
    "By exploring the attributes for churn, and according to the model test result with four features (monthly charges, tenure, contract type and additional services) I found that related to churn. The best model is logistic regression with a 79.67% accuracy on the test set. "
   ]
  },
  {
   "cell_type": "markdown",
   "id": "15693d31",
   "metadata": {},
   "source": [
    "## Recommendations"
   ]
  },
  {
   "cell_type": "markdown",
   "id": "7cde8745",
   "metadata": {},
   "source": [
    "1. Better price for the long-term contract and offer more different length of contracts.\n",
    "2. Offer more popular and useful additional services for the customers.\n",
    "3. Get better deals from different providers to make the company more competitive in price."
   ]
  },
  {
   "cell_type": "markdown",
   "id": "b92b06b0",
   "metadata": {},
   "source": [
    "## Next Steps"
   ]
  },
  {
   "cell_type": "markdown",
   "id": "058e68ed",
   "metadata": {},
   "source": [
    "1. In my first round of exploration, I found out that six features could affect the churn rate. But after the modeling part, I found two of them actually don't have a positive influence on my models so I took those two off. I would like to explore more features and use the different combinations to improve my result.\n",
    "\n",
    "\n",
    "2. In this report, I only use the accuracy as metric for different models and the best test accuracy is 79.67%. I would like to dig deeper into the modeling part, and use different metrics, different algorithms to improve the overall performance.\n",
    "\n",
    "\n",
    "3. Since I already know that price is one of the important attributes of the churn rate. But the price columns I have here are only monthly charges and total charges. I would like to have more detailed prices for different categories so I can get a better prediction of the churn rate."
   ]
  }
 ],
 "metadata": {
  "kernelspec": {
   "display_name": "Python 3 (ipykernel)",
   "language": "python",
   "name": "python3"
  },
  "language_info": {
   "codemirror_mode": {
    "name": "ipython",
    "version": 3
   },
   "file_extension": ".py",
   "mimetype": "text/x-python",
   "name": "python",
   "nbconvert_exporter": "python",
   "pygments_lexer": "ipython3",
   "version": "3.9.12"
  }
 },
 "nbformat": 4,
 "nbformat_minor": 5
}
